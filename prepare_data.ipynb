{
  "cells": [
    {
      "cell_type": "markdown",
      "metadata": {
        "id": "view-in-github",
        "colab_type": "text"
      },
      "source": [
        "<a href=\"https://colab.research.google.com/github/edakiziltas08/GitDeneme/blob/master/prepare_data.ipynb\" target=\"_parent\"><img src=\"https://colab.research.google.com/assets/colab-badge.svg\" alt=\"Open In Colab\"/></a>"
      ]
    },
    {
      "cell_type": "markdown",
      "id": "personalized-frame",
      "metadata": {
        "id": "personalized-frame"
      },
      "source": [
        "## Introduction\n",
        "In this notebook, we explain all prerequisites for using our implementation.\n",
        "\n",
        "Here are general steps you need to follow (this notebook covers the first two. train_all.ipynb covers the third):\n",
        "1. Python. Make sure you have a python environment (conda or other) with libraries listed in requirements.txt\n",
        "2. Data. The data preparation steps are provided in the DATA directory.\n",
        "3. Commands. The rest of this notebook generates shell commands for starting the training process. We are running our code on a server with slurm for job management. You can change a little bit this notebook to adapt to your own environment. Providing GPU would make the running of these training jobs faster."
      ]
    },
    {
      "cell_type": "raw",
      "id": "proved-immune",
      "metadata": {
        "id": "proved-immune"
      },
      "source": [
        "# follow these two steps for creating your own conda environment to continue\n",
        "!conda create --name forec python=3.7\n",
        "!conda activate forec && pip install -r requirements.txt"
      ]
    },
    {
      "cell_type": "markdown",
      "id": "buried-dining",
      "metadata": {
        "id": "buried-dining"
      },
      "source": [
        "## Download XMarket Data"
      ]
    },
    {
      "cell_type": "code",
      "execution_count": 1,
      "id": "champion-waterproof",
      "metadata": {
        "id": "champion-waterproof",
        "outputId": "37ba8cf8-8644-48c6-9523-24ebcc1f80ed",
        "colab": {
          "base_uri": "https://localhost:8080/"
        }
      },
      "outputs": [
        {
          "output_type": "stream",
          "name": "stdout",
          "text": [
            "Done: https://ciir.cs.umass.edu/downloads/XMarket/FULL/ca/Electronics/ratings_ca_Electronics.txt.gz\n",
            "Done: https://ciir.cs.umass.edu/downloads/XMarket/FULL/de/Electronics/ratings_de_Electronics.txt.gz\n",
            "Done: https://ciir.cs.umass.edu/downloads/XMarket/FULL/fr/Electronics/ratings_fr_Electronics.txt.gz\n",
            "Done: https://ciir.cs.umass.edu/downloads/XMarket/FULL/in/Electronics/ratings_in_Electronics.txt.gz\n",
            "Done: https://ciir.cs.umass.edu/downloads/XMarket/FULL/jp/Electronics/ratings_jp_Electronics.txt.gz\n",
            "Done: https://ciir.cs.umass.edu/downloads/XMarket/FULL/mx/Electronics/ratings_mx_Electronics.txt.gz\n",
            "Done: https://ciir.cs.umass.edu/downloads/XMarket/FULL/uk/Electronics/ratings_uk_Electronics.txt.gz\n",
            "Done: https://ciir.cs.umass.edu/downloads/XMarket/FULL/us/Electronics/ratings_us_Electronics.txt.gz\n"
          ]
        }
      ],
      "source": [
        "import os\n",
        "import urllib.request as urlreq\n",
        "\n",
        "tgt_markets = ['ca', 'de', 'fr', 'in', 'jp', 'mx', 'uk', 'us']\n",
        "tgt_cat = 'Electronics'\n",
        "\n",
        "##########\n",
        "### Download XMarket data for papers categories and markets\n",
        "#########\n",
        "fix_url = 'https://ciir.cs.umass.edu/downloads/XMarket/FULL/'\n",
        "orig_data_dl = 'DATA2/orig_data'\n",
        "proc_data_out = 'DATA2/proc_data'\n",
        "if not os.path.exists(orig_data_dl):\n",
        "    os.makedirs(orig_data_dl)\n",
        "if not os.path.exists(proc_data_out):\n",
        "    os.makedirs(proc_data_out)\n",
        "\n",
        "for tgt_market in tgt_markets:\n",
        "    cur_url = f'{fix_url}{tgt_market}/{tgt_cat}/ratings_{tgt_market}_{tgt_cat}.txt.gz'\n",
        "    urlreq.urlretrieve(cur_url, f'{orig_data_dl}/ratings_{tgt_market}_{tgt_cat}.txt.gz')\n",
        "    print(f'Done: {cur_url}')"
      ]
    },
    {
      "cell_type": "markdown",
      "id": "surface-bachelor",
      "metadata": {
        "id": "surface-bachelor"
      },
      "source": [
        "## Process and Filter"
      ]
    },
    {
      "cell_type": "code",
      "execution_count": 2,
      "id": "unusual-words",
      "metadata": {
        "id": "unusual-words"
      },
      "outputs": [],
      "source": [
        "# set thr for K-core data cleaning. We use 5core, +1 valid and +1 test-> so at this point we filter 7core\n",
        "user_thr = 7\n",
        "item_thr = 7\n",
        "\n",
        "# one can iterate a few times, we only perform one time filter\n",
        "def get_kcore(ratings_all, user_thr, item_thr, repeat=1):\n",
        "    for i in range(repeat):\n",
        "        ratings_all.reset_index(drop=True, inplace=True)\n",
        "        ratings_all = ratings_all.loc[ratings_all.groupby(\"itemId\").filter(lambda x: len(x) >= item_thr).index]\n",
        "        ratings_all.reset_index(drop=True, inplace=True)\n",
        "        ratings_all = ratings_all.loc[ratings_all.groupby(\"userId\").filter(lambda x: len(x) >= user_thr).index]\n",
        "        ratings_all.reset_index(drop=True, inplace=True)\n",
        "    return ratings_all\n",
        "\n",
        "def rating_stats(ratings_all):\n",
        "    n_rating = ratings_all.shape[0]\n",
        "    n_user = len(set(ratings_all['userId'].unique()))\n",
        "    n_item = len(set(ratings_all['itemId'].unique()))\n",
        "\n",
        "    if (n_user*n_item)!=0:\n",
        "        density = round((n_rating/(n_user*n_item) )*100, 5)\n",
        "    else:\n",
        "        density = 0\n",
        "\n",
        "    return { '#users': n_user,\n",
        "        '#items': n_item,\n",
        "        '#rates': n_rating,\n",
        "        'dens\\%': density,\n",
        "        }"
      ]
    },
    {
      "cell_type": "code",
      "execution_count": 3,
      "id": "fiscal-precipitation",
      "metadata": {
        "id": "fiscal-precipitation",
        "outputId": "c991a166-129e-42ed-e02e-407206c1a861",
        "colab": {
          "base_uri": "https://localhost:8080/"
        }
      },
      "outputs": [
        {
          "output_type": "stream",
          "name": "stdout",
          "text": [
            "US Market data stats:\n",
            "{'#users': 2784128, '#items': 35943, '#rates': 4169476, 'dens\\\\%': 0.00417}\n",
            "{'#users': 35916, '#items': 31125, '#rates': 364339, 'dens\\\\%': 0.03259}\n",
            "{'#users': 12490, '#items': 24528, '#rates': 178811, 'dens\\\\%': 0.05837}\n",
            "\n",
            "-- ca stats: \n",
            "{'#users': 5675, '#items': 5772, '#rates': 55045, 'dens\\\\%': 0.16805}\n",
            "\n",
            "-- de stats: \n",
            "{'#users': 2373, '#items': 2210, '#rates': 22247, 'dens\\\\%': 0.42421}\n",
            "\n",
            "-- fr stats: \n",
            "{'#users': 2396, '#items': 1911, '#rates': 22905, 'dens\\\\%': 0.50025}\n",
            "\n",
            "-- in stats: \n",
            "{'#users': 239, '#items': 470, '#rates': 2015, 'dens\\\\%': 1.79382}\n",
            "\n",
            "-- jp stats: \n",
            "{'#users': 487, '#items': 955, '#rates': 4485, 'dens\\\\%': 0.96434}\n",
            "\n",
            "-- mx stats: \n",
            "{'#users': 1878, '#items': 1645, '#rates': 17095, 'dens\\\\%': 0.55336}\n",
            "\n",
            "-- uk stats: \n",
            "{'#users': 4847, '#items': 3302, '#rates': 44515, 'dens\\\\%': 0.27814}\n"
          ]
        }
      ],
      "source": [
        "##########\n",
        "### load and clean us market as the M0\n",
        "#########\n",
        "import pandas as pd\n",
        "\n",
        "tgt_market = 'us'\n",
        "us_ratings_file = f'{orig_data_dl}/ratings_{tgt_market}_{tgt_cat}.txt.gz'\n",
        "\n",
        "us_df = pd.read_csv(us_ratings_file, compression='gzip', header=None, sep=' ', names=[\"userId\", \"itemId\", \"rate\", \"date\"] )\n",
        "us_df_7core = get_kcore(us_df, user_thr=user_thr, item_thr=item_thr)\n",
        "\n",
        "us_user_thr = 10\n",
        "us_item_thr = 25\n",
        "us_df_10core = get_kcore(us_df, user_thr=us_user_thr, item_thr=us_item_thr)\n",
        "\n",
        "# write us data\n",
        "us_df_7core.to_csv(f'{proc_data_out}/{tgt_market}_5core.txt', index=False, sep=' ')\n",
        "us_df_10core.to_csv(f'{proc_data_out}/{tgt_market}_10core.txt', index=False, sep=' ')\n",
        "\n",
        "print('US Market data stats:')\n",
        "print(rating_stats(us_df))\n",
        "print(rating_stats(us_df_7core))\n",
        "print(rating_stats(us_df_10core))\n",
        "\n",
        "##########\n",
        "### load and clean target markets\n",
        "#########\n",
        "us_items_set = set(us_df_10core['itemId'].unique())\n",
        "\n",
        "for tgt_market in tgt_markets:\n",
        "    if tgt_market=='us':\n",
        "        continue\n",
        "    #read market ratings\n",
        "    cur_ratings_file = f'{orig_data_dl}/ratings_{tgt_market}_{tgt_cat}.txt.gz'\n",
        "    cur_df = pd.read_csv(cur_ratings_file, compression='gzip', header=None, sep=' ', names=[\"userId\", \"itemId\", \"rate\", \"date\"] )\n",
        "\n",
        "    # item exist for us\n",
        "    cur_df = cur_df.loc[cur_df['itemId'].isin( us_items_set )]\n",
        "    cur_df_7core = get_kcore(cur_df, user_thr=user_thr, item_thr=item_thr)\n",
        "    cur_df_7core.to_csv(f'{proc_data_out}/{tgt_market}_5core.txt', index=False, sep=' ')\n",
        "    print(f'\\n-- {tgt_market} stats: ')\n",
        "    print(rating_stats(cur_df_7core))"
      ]
    },
    {
      "cell_type": "code",
      "source": [
        "import os\n",
        "os.getcwd()\n",
        "!ls"
      ],
      "metadata": {
        "id": "GScqL0w4Uk9_",
        "outputId": "78848d29-b185-4ab1-e23e-55235566e5aa",
        "colab": {
          "base_uri": "https://localhost:8080/"
        }
      },
      "id": "GScqL0w4Uk9_",
      "execution_count": 7,
      "outputs": [
        {
          "output_type": "stream",
          "name": "stdout",
          "text": [
            "DATA2  sample_data\n"
          ]
        }
      ]
    },
    {
      "cell_type": "code",
      "execution_count": 17,
      "id": "vietnamese-source",
      "metadata": {
        "id": "vietnamese-source",
        "outputId": "d9fd371f-d2f2-4948-d574-f1b0e5a7adfa",
        "colab": {
          "base_uri": "https://localhost:8080/"
        }
      },
      "outputs": [
        {
          "output_type": "stream",
          "name": "stdout",
          "text": [
            "ca\n",
            "de\n",
            "fr\n",
            "in\n",
            "jp\n",
            "mx\n",
            "uk\n",
            "us\n",
            "   userId  itemId  rate        date\n",
            "0       0       0   5.0  2016-10-08\n",
            "1       1       1   4.0  2015-12-27\n",
            "2       2       2   5.0  2017-11-09\n",
            "3       3       3   4.0  2018-08-30\n",
            "4       4       4   3.0  2015-10-04\n",
            "{'#users': 30362, '#items': 24528, '#rates': 347118, 'dens\\\\%': 0.04661}\n"
          ]
        }
      ],
      "source": [
        "\n",
        "import matplotlib.pyplot as plt\n",
        "import pickle\n",
        "\n",
        "\n",
        "\n",
        "item_map = {}\n",
        "user_map = {}\n",
        "idi =0\n",
        "idu =0\n",
        "dic_data = {}\n",
        "\n",
        "for tgt_market in tgt_markets:\n",
        "  print(tgt_market)\n",
        "  if tgt_market=='us':\n",
        "    cur_ratings_file = f'DATA2/proc_data/{tgt_market}_10core.txt'\n",
        "  else:\n",
        "    cur_ratings_file = f'DATA2/proc_data/{tgt_market}_5core.txt'\n",
        "  cur_df = pd.read_csv(cur_ratings_file, header=0, sep=' ', names=[\"userId\", \"itemId\", \"rate\", \"date\"] )\n",
        "  for row in cur_df.iterrows():\n",
        "    user_id = row[1]['userId']\n",
        "    item_id = row[1]['itemId']\n",
        "    if user_id not in user_map:\n",
        "      user_map[user_id] = idu\n",
        "      idu += 1\n",
        "    if item_id not in item_map:\n",
        "      item_map[item_id] = idi\n",
        "      idi += 1\n",
        "\n",
        "for tgt_market in tgt_markets:\n",
        "  if tgt_market=='us':\n",
        "    cur_ratings_file = f'DATA2/proc_data/{tgt_market}_10core.txt'\n",
        "  else:\n",
        "    cur_ratings_file = f'DATA2/proc_data/{tgt_market}_5core.txt'\n",
        "  dic_data[tgt_market] = pd.read_csv(cur_ratings_file, header=0, sep=' ', names=[\"userId\", \"itemId\", \"rate\", \"date\"] )\n",
        "  dic_data[tgt_market]['userId'] = dic_data[tgt_market]['userId'].map(user_map)\n",
        "  dic_data[tgt_market]['itemId'] = dic_data[tgt_market]['itemId'].map(item_map)\n",
        "\n",
        "\n",
        "\n",
        "\n",
        "with open('DATA2/dic_XMARKET.pkl', 'wb') as f:\n",
        "    pickle.dump(dic_data, f)\n",
        "\n",
        "with open('DATA2/item_map.pkl', 'wb') as f:\n",
        "    pickle.dump(item_map, f)\n",
        "\n",
        "with open('DATA2/user_map.pkl', 'wb') as f:\n",
        "    pickle.dump(user_map, f)\n",
        "\n",
        "concatenated_df = pd.concat(dic_data.values(), ignore_index=True)\n",
        "\n",
        "concatenated_df.to_csv('DATA2/concatenated_df.txt', index=False, sep=' ')\n",
        "\n",
        "print(concatenated_df.head())\n",
        "\n",
        "print(rating_stats(concatenated_df))\n",
        "\n",
        "\n",
        "\n"
      ]
    },
    {
      "cell_type": "code",
      "source": [
        "# most popular 100 items\n",
        "\n"
      ],
      "metadata": {
        "id": "TPJQHpDCdYPf"
      },
      "id": "TPJQHpDCdYPf",
      "execution_count": null,
      "outputs": []
    }
  ],
  "metadata": {
    "kernelspec": {
      "display_name": "py37_transformer3_qbd",
      "language": "python",
      "name": "py37_transformer3_qbd"
    },
    "language_info": {
      "codemirror_mode": {
        "name": "ipython",
        "version": 3
      },
      "file_extension": ".py",
      "mimetype": "text/x-python",
      "name": "python",
      "nbconvert_exporter": "python",
      "pygments_lexer": "ipython3",
      "version": "3.7.9"
    },
    "colab": {
      "provenance": [],
      "include_colab_link": true
    }
  },
  "nbformat": 4,
  "nbformat_minor": 5
}